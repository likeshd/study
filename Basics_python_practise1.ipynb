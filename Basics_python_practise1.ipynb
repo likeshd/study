{
  "nbformat": 4,
  "nbformat_minor": 0,
  "metadata": {
    "colab": {
      "provenance": [],
      "authorship_tag": "ABX9TyPdxa7JViYK6eWyFNqp8m9W",
      "include_colab_link": true
    },
    "kernelspec": {
      "name": "python3",
      "display_name": "Python 3"
    },
    "language_info": {
      "name": "python"
    }
  },
  "cells": [
    {
      "cell_type": "markdown",
      "metadata": {
        "id": "view-in-github",
        "colab_type": "text"
      },
      "source": [
        "<a href=\"https://colab.research.google.com/github/likeshd/study/blob/main/Basics_python_practise1.ipynb\" target=\"_parent\"><img src=\"https://colab.research.google.com/assets/colab-badge.svg\" alt=\"Open In Colab\"/></a>"
      ]
    },
    {
      "cell_type": "markdown",
      "source": [
        "## To chk password strength"
      ],
      "metadata": {
        "id": "RLuSe1xmfAJk"
      }
    },
    {
      "cell_type": "code",
      "source": [
        "def is_password_strong(password):\n",
        "  special_chars = \"!\\\"#$%&'()*+,-./:;<=>?@[\\\\]^_`{|}~\"\n",
        "\n",
        "  # chk length\n",
        "  if len(password) < 8:\n",
        "    return False\n",
        "  #chk password contains lower letter\n",
        "  if not any(char.islower for char in password):\n",
        "    return False\n",
        "  #chk password contains upper letter\n",
        "  if not any (char.isupper for char in password):\n",
        "    return False\n",
        "  #chk password contains special character\n",
        "  if not any (char in special_chars for char in password):\n",
        "    return False\n",
        "  #chk password contains digit\n",
        "  if not any (char.isdigit for char in password):\n",
        "    return False\n",
        "  return True\n"
      ],
      "metadata": {
        "id": "SeWSZytDfAtB"
      },
      "execution_count": 8,
      "outputs": []
    },
    {
      "cell_type": "code",
      "source": [
        "print(is_password_strong(\"Ghhsjkj23\"))\n",
        "print(is_password_strong(\"ghhsjkj23*L\"))"
      ],
      "metadata": {
        "colab": {
          "base_uri": "https://localhost:8080/"
        },
        "id": "uodhgzycgtN7",
        "outputId": "96589c28-c3f7-42c0-d272-97a50307dce3"
      },
      "execution_count": 10,
      "outputs": [
        {
          "output_type": "stream",
          "name": "stdout",
          "text": [
            "False\n",
            "True\n"
          ]
        }
      ]
    },
    {
      "cell_type": "markdown",
      "source": [
        "## To calculate total cost of all items present in cart."
      ],
      "metadata": {
        "id": "XZmA_bfCsBmO"
      }
    },
    {
      "cell_type": "code",
      "source": [
        "def calculate_total_cost(cart):\n",
        "  total_cost = 0\n",
        "  for item in cart:\n",
        "    total_cost += item[\"price\"] * item[\"quantity\"]\n",
        "  return total_cost\n",
        "\n",
        "\n",
        "\n"
      ],
      "metadata": {
        "id": "_PexnO8_sMdZ"
      },
      "execution_count": 17,
      "outputs": []
    },
    {
      "cell_type": "code",
      "source": [
        "cart = [{\"name\": \"pen\", \"price\": 10, \"quantity\": 2},\n",
        "        {\"name\": \"books\", \"price\": 45, \"quantity\": 4},\n",
        "        {\"name\": \"bags\", \"price\": 320, \"quantity\": 1}]\n",
        "\n",
        "print(calculate_total_cost(cart))"
      ],
      "metadata": {
        "colab": {
          "base_uri": "https://localhost:8080/"
        },
        "id": "7hlNXc6zsb2E",
        "outputId": "01bbb29b-717d-44e9-88f4-8f5d12961a20"
      },
      "execution_count": 18,
      "outputs": [
        {
          "output_type": "stream",
          "name": "stdout",
          "text": [
            "520\n"
          ]
        }
      ]
    },
    {
      "cell_type": "markdown",
      "source": [
        "Chk palindrome"
      ],
      "metadata": {
        "id": "obcnGwawt3ZV"
      }
    },
    {
      "cell_type": "code",
      "source": [
        "def is_palindrome(s):\n",
        "  s = s.lower().replace(\" \", \"\")\n",
        "  return s == s[::-1]"
      ],
      "metadata": {
        "id": "6zXWuoUyupiQ"
      },
      "execution_count": 19,
      "outputs": []
    },
    {
      "cell_type": "code",
      "source": [
        "print(is_palindrome(\"A man a plan a canal panama\"))\n",
        "print(is_palindrome(\"hello\"))"
      ],
      "metadata": {
        "colab": {
          "base_uri": "https://localhost:8080/"
        },
        "id": "GZoN4lnTu_MG",
        "outputId": "eff116b7-ba67-4561-d115-a29478652993"
      },
      "execution_count": 20,
      "outputs": [
        {
          "output_type": "stream",
          "name": "stdout",
          "text": [
            "True\n",
            "False\n"
          ]
        }
      ]
    },
    {
      "cell_type": "markdown",
      "source": [
        "## Recurssive function"
      ],
      "metadata": {
        "id": "ZfPlpzzvvX0x"
      }
    },
    {
      "cell_type": "code",
      "source": [
        "def factorial(number):\n",
        "  if number == 0:\n",
        "    return 1\n",
        "  else :\n",
        "    fact = number * factorial(number -1)\n",
        "    return fact"
      ],
      "metadata": {
        "id": "hPRM1jjJwjcF"
      },
      "execution_count": 21,
      "outputs": []
    },
    {
      "cell_type": "code",
      "source": [
        "print( factorial(1))"
      ],
      "metadata": {
        "colab": {
          "base_uri": "https://localhost:8080/"
        },
        "id": "5WT6wuoWw_db",
        "outputId": "54657814-e498-477a-9c56-ac0df2708582"
      },
      "execution_count": 26,
      "outputs": [
        {
          "output_type": "stream",
          "name": "stdout",
          "text": [
            "1\n"
          ]
        }
      ]
    },
    {
      "cell_type": "markdown",
      "source": [
        "## Count word frequency"
      ],
      "metadata": {
        "id": "Aroid4OdzlFg"
      }
    },
    {
      "cell_type": "code",
      "source": [
        "def count_word_freq(file_path):\n",
        "  word_freq ={}\n",
        "  with open (file_path, \"r\") as file:\n",
        "    for line in file:\n",
        "      words = line.split()\n",
        "      for word in words:\n",
        "        word = word.lower().strip('.:;\"\\',?/')\n",
        "        word_freq[word] = word_freq.get(word, 0) + 1\n",
        "  return word_freq"
      ],
      "metadata": {
        "id": "cqfAm1BJz0ng"
      },
      "execution_count": 28,
      "outputs": []
    },
    {
      "cell_type": "code",
      "source": [
        "file_path = \"/content/sample_data/read.txt\"\n",
        "print(count_word_freq(file_path))"
      ],
      "metadata": {
        "colab": {
          "base_uri": "https://localhost:8080/"
        },
        "id": "zxShMl2s1ZCT",
        "outputId": "0b204a09-6121-457d-8020-ac04c306c7f8"
      },
      "execution_count": 30,
      "outputs": [
        {
          "output_type": "stream",
          "name": "stdout",
          "text": [
            "{'hi': 1, 'my': 1, 'name': 1, 'is': 1, 'likesh': 1, 'and': 1, 'i': 2, 'am': 2, 'from': 1, 'nagpur': 1, 'an': 1, 'software': 1, 'engineer': 1}\n"
          ]
        }
      ]
    }
  ]
}
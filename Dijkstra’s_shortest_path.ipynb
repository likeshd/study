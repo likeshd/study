{
  "nbformat": 4,
  "nbformat_minor": 0,
  "metadata": {
    "colab": {
      "provenance": [],
      "authorship_tag": "ABX9TyOnBrHCRIpq0B9lo9YbQnBF",
      "include_colab_link": true
    },
    "kernelspec": {
      "name": "python3",
      "display_name": "Python 3"
    },
    "language_info": {
      "name": "python"
    }
  },
  "cells": [
    {
      "cell_type": "markdown",
      "metadata": {
        "id": "view-in-github",
        "colab_type": "text"
      },
      "source": [
        "<a href=\"https://colab.research.google.com/github/likeshd/study/blob/main/Dijkstra%E2%80%99s_shortest_path.ipynb\" target=\"_parent\"><img src=\"https://colab.research.google.com/assets/colab-badge.svg\" alt=\"Open In Colab\"/></a>"
      ]
    },
    {
      "cell_type": "markdown",
      "source": [
        "Dijkstra’s algorithm is also known as the single-source shortest path algorithm. It is used for finding the shortest path between the nodes of a graph where the cost of each path is not the same.\n",
        "# Dijkstra’s Algorithm\n",
        "Dijkstra’s algorithm is used to find the shortest path between the nodes of a graph. In real-world applications, it is used to automatically find directions between physical locations, as the directions you get on Google Maps is an example of Dijkstra’s algorithm.\n",
        "\n",
        "We can also use the Breadth-First Search algorithm to find the shortest path, but the problem is, it assumes the cost of traversing each path is the same. While Dijkstra’s algorithm helps us find the shortest path where the cost of each path is not the same.\n",
        "\n",
        "In the Breadth-First Search algorithm, we move from one node to all the other nodes, which means we follow the first-come, first-served method. But in Dijkstra’s algorithm, instead of following the first-come, first-served method, we deal with the closest nodes first so that it takes a very small number of steps to find the shortest path.\n",
        "\n",
        "To implement it we have to choose the first node that is closest to the source to find the shortest path.\n",
        "\n",
        "\n"
      ],
      "metadata": {
        "id": "ar60gh3wa6rw"
      }
    },
    {
      "cell_type": "code",
      "source": [
        "from heapq import *\n",
        "from collections import defaultdict\n",
        "\n",
        "def dijkstra(edges, strat_node, end_node):\n",
        "    g = defaultdict(list)\n",
        "    for start, end, weight in edges:\n",
        "        g[start].append((weight, end))\n",
        "    q, visited = [(0, strat_node,())], set()\n",
        "    while q:\n",
        "        (cost,v1,path) = heappop(q)\n",
        "        if v1 not in visited:\n",
        "            visited.add(v1)\n",
        "            path = (v1, path)\n",
        "            if v1 == end_node:\n",
        "                return (cost, path)\n",
        "            for c, v2 in g.get(v1, ()):\n",
        "                if v2 not in visited:\n",
        "                    heappush(q, (cost+c, v2, path))\n",
        "        print (q)\n",
        "    return float(\"inf\")\n",
        "\n",
        "if __name__ == \"__main__\":\n",
        "\n",
        "    edges = [\n",
        "        (\"A\", \"B\", 7),\n",
        "        (\"A\", \"D\", 5),\n",
        "        (\"B\", \"C\", 8),\n",
        "        (\"B\", \"D\", 9),\n",
        "        (\"B\", \"E\", 7),\n",
        "        (\"C\", \"E\", 5),\n",
        "        (\"D\", \"E\", 7),\n",
        "        (\"D\", \"F\", 6),\n",
        "        (\"E\", \"F\", 8),\n",
        "        (\"E\", \"G\", 9),\n",
        "        (\"F\", \"G\", 11)\n",
        "    ]\n",
        "\n",
        "    print (\"=== Dijkstra ===\")\n",
        "    print (\"A >> G:\")\n",
        "    print (dijkstra(edges, \"A\", \"G\"))"
      ],
      "metadata": {
        "colab": {
          "base_uri": "https://localhost:8080/"
        },
        "id": "qlh66zVobczj",
        "outputId": "4b0e8f7f-f273-4d2a-ed05-278dfacc40b0"
      },
      "execution_count": 1,
      "outputs": [
        {
          "output_type": "stream",
          "name": "stdout",
          "text": [
            "=== Dijkstra ===\n",
            "A >> G:\n",
            "[(5, 'D', ('A', ())), (7, 'B', ('A', ()))]\n",
            "[(7, 'B', ('A', ())), (12, 'E', ('D', ('A', ()))), (11, 'F', ('D', ('A', ())))]\n",
            "[(11, 'F', ('D', ('A', ()))), (12, 'E', ('D', ('A', ()))), (15, 'C', ('B', ('A', ()))), (14, 'E', ('B', ('A', ())))]\n",
            "[(12, 'E', ('D', ('A', ()))), (14, 'E', ('B', ('A', ()))), (15, 'C', ('B', ('A', ()))), (22, 'G', ('F', ('D', ('A', ()))))]\n",
            "[(14, 'E', ('B', ('A', ()))), (21, 'G', ('E', ('D', ('A', ())))), (15, 'C', ('B', ('A', ()))), (22, 'G', ('F', ('D', ('A', ()))))]\n",
            "[(15, 'C', ('B', ('A', ()))), (21, 'G', ('E', ('D', ('A', ())))), (22, 'G', ('F', ('D', ('A', ()))))]\n",
            "[(21, 'G', ('E', ('D', ('A', ())))), (22, 'G', ('F', ('D', ('A', ()))))]\n",
            "(21, ('G', ('E', ('D', ('A', ())))))\n"
          ]
        }
      ]
    },
    {
      "cell_type": "code",
      "source": [],
      "metadata": {
        "id": "mOB8pxela7FU"
      },
      "execution_count": null,
      "outputs": []
    }
  ]
}
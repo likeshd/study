{
  "nbformat": 4,
  "nbformat_minor": 0,
  "metadata": {
    "colab": {
      "provenance": [],
      "authorship_tag": "ABX9TyP8MBJZwWEhnm6ey0kQXPmN",
      "include_colab_link": true
    },
    "kernelspec": {
      "name": "python3",
      "display_name": "Python 3"
    },
    "language_info": {
      "name": "python"
    }
  },
  "cells": [
    {
      "cell_type": "markdown",
      "metadata": {
        "id": "view-in-github",
        "colab_type": "text"
      },
      "source": [
        "<a href=\"https://colab.research.google.com/github/likeshd/study/blob/main/Pandas_advanced_function.ipynb\" target=\"_parent\"><img src=\"https://colab.research.google.com/assets/colab-badge.svg\" alt=\"Open In Colab\"/></a>"
      ]
    },
    {
      "cell_type": "markdown",
      "source": [
        "\n",
        "# Advanced Pandas Functions for Data Analysis\n",
        " Pandas is a fundamental library in Python for data manipulation and analysis, which provides rich functionalities and methods that enable data professionals to process and analyze large datasets. There are some advanced functions in Pandas that you should know for Data Analysis. If you want to know about such functions, this article is for you. In this article, I’ll take you through some advanced Pandas functions for Data Analysis and how to use them."
      ],
      "metadata": {
        "id": "bef15PzQJ2eA"
      }
    },
    {
      "cell_type": "markdown",
      "source": [
        "# GroupBy\n",
        "GroupBy allows you to group together rows that share the same value in one or more columns and then perform an operation on each group. It can be anything from aggregation (e.g., sum, mean) to transformation (e.g., standardizing data within a group) or filtration (e.g., removing data that does not meet a certain condition)."
      ],
      "metadata": {
        "id": "8hjOLjGHOKK3"
      }
    },
    {
      "cell_type": "code",
      "source": [
        "import pandas as pd\n",
        "\n",
        "# sample dataframe\n",
        "df = pd.DataFrame({\n",
        "    'A': ['Delhi', 'Mumbai', 'Delhi', 'Mumbai'],\n",
        "    'B': [1, 2, 3, 4],\n",
        "    'C': [2.0, 5., 8., 1.]\n",
        "})\n",
        "df"
      ],
      "metadata": {
        "colab": {
          "base_uri": "https://localhost:8080/",
          "height": 175
        },
        "id": "9XeYb_z_ONQS",
        "outputId": "c5cb4347-ebac-4c74-86d2-85d03a30e552"
      },
      "execution_count": 4,
      "outputs": [
        {
          "output_type": "execute_result",
          "data": {
            "text/plain": [
              "        A  B    C\n",
              "0   Delhi  1  2.0\n",
              "1  Mumbai  2  5.0\n",
              "2   Delhi  3  8.0\n",
              "3  Mumbai  4  1.0"
            ],
            "text/html": [
              "\n",
              "  <div id=\"df-280ddb4e-ec7d-43d4-b8f5-7e2a83b4d2af\" class=\"colab-df-container\">\n",
              "    <div>\n",
              "<style scoped>\n",
              "    .dataframe tbody tr th:only-of-type {\n",
              "        vertical-align: middle;\n",
              "    }\n",
              "\n",
              "    .dataframe tbody tr th {\n",
              "        vertical-align: top;\n",
              "    }\n",
              "\n",
              "    .dataframe thead th {\n",
              "        text-align: right;\n",
              "    }\n",
              "</style>\n",
              "<table border=\"1\" class=\"dataframe\">\n",
              "  <thead>\n",
              "    <tr style=\"text-align: right;\">\n",
              "      <th></th>\n",
              "      <th>A</th>\n",
              "      <th>B</th>\n",
              "      <th>C</th>\n",
              "    </tr>\n",
              "  </thead>\n",
              "  <tbody>\n",
              "    <tr>\n",
              "      <th>0</th>\n",
              "      <td>Delhi</td>\n",
              "      <td>1</td>\n",
              "      <td>2.0</td>\n",
              "    </tr>\n",
              "    <tr>\n",
              "      <th>1</th>\n",
              "      <td>Mumbai</td>\n",
              "      <td>2</td>\n",
              "      <td>5.0</td>\n",
              "    </tr>\n",
              "    <tr>\n",
              "      <th>2</th>\n",
              "      <td>Delhi</td>\n",
              "      <td>3</td>\n",
              "      <td>8.0</td>\n",
              "    </tr>\n",
              "    <tr>\n",
              "      <th>3</th>\n",
              "      <td>Mumbai</td>\n",
              "      <td>4</td>\n",
              "      <td>1.0</td>\n",
              "    </tr>\n",
              "  </tbody>\n",
              "</table>\n",
              "</div>\n",
              "    <div class=\"colab-df-buttons\">\n",
              "\n",
              "  <div class=\"colab-df-container\">\n",
              "    <button class=\"colab-df-convert\" onclick=\"convertToInteractive('df-280ddb4e-ec7d-43d4-b8f5-7e2a83b4d2af')\"\n",
              "            title=\"Convert this dataframe to an interactive table.\"\n",
              "            style=\"display:none;\">\n",
              "\n",
              "  <svg xmlns=\"http://www.w3.org/2000/svg\" height=\"24px\" viewBox=\"0 -960 960 960\">\n",
              "    <path d=\"M120-120v-720h720v720H120Zm60-500h600v-160H180v160Zm220 220h160v-160H400v160Zm0 220h160v-160H400v160ZM180-400h160v-160H180v160Zm440 0h160v-160H620v160ZM180-180h160v-160H180v160Zm440 0h160v-160H620v160Z\"/>\n",
              "  </svg>\n",
              "    </button>\n",
              "\n",
              "  <style>\n",
              "    .colab-df-container {\n",
              "      display:flex;\n",
              "      gap: 12px;\n",
              "    }\n",
              "\n",
              "    .colab-df-convert {\n",
              "      background-color: #E8F0FE;\n",
              "      border: none;\n",
              "      border-radius: 50%;\n",
              "      cursor: pointer;\n",
              "      display: none;\n",
              "      fill: #1967D2;\n",
              "      height: 32px;\n",
              "      padding: 0 0 0 0;\n",
              "      width: 32px;\n",
              "    }\n",
              "\n",
              "    .colab-df-convert:hover {\n",
              "      background-color: #E2EBFA;\n",
              "      box-shadow: 0px 1px 2px rgba(60, 64, 67, 0.3), 0px 1px 3px 1px rgba(60, 64, 67, 0.15);\n",
              "      fill: #174EA6;\n",
              "    }\n",
              "\n",
              "    .colab-df-buttons div {\n",
              "      margin-bottom: 4px;\n",
              "    }\n",
              "\n",
              "    [theme=dark] .colab-df-convert {\n",
              "      background-color: #3B4455;\n",
              "      fill: #D2E3FC;\n",
              "    }\n",
              "\n",
              "    [theme=dark] .colab-df-convert:hover {\n",
              "      background-color: #434B5C;\n",
              "      box-shadow: 0px 1px 3px 1px rgba(0, 0, 0, 0.15);\n",
              "      filter: drop-shadow(0px 1px 2px rgba(0, 0, 0, 0.3));\n",
              "      fill: #FFFFFF;\n",
              "    }\n",
              "  </style>\n",
              "\n",
              "    <script>\n",
              "      const buttonEl =\n",
              "        document.querySelector('#df-280ddb4e-ec7d-43d4-b8f5-7e2a83b4d2af button.colab-df-convert');\n",
              "      buttonEl.style.display =\n",
              "        google.colab.kernel.accessAllowed ? 'block' : 'none';\n",
              "\n",
              "      async function convertToInteractive(key) {\n",
              "        const element = document.querySelector('#df-280ddb4e-ec7d-43d4-b8f5-7e2a83b4d2af');\n",
              "        const dataTable =\n",
              "          await google.colab.kernel.invokeFunction('convertToInteractive',\n",
              "                                                    [key], {});\n",
              "        if (!dataTable) return;\n",
              "\n",
              "        const docLinkHtml = 'Like what you see? Visit the ' +\n",
              "          '<a target=\"_blank\" href=https://colab.research.google.com/notebooks/data_table.ipynb>data table notebook</a>'\n",
              "          + ' to learn more about interactive tables.';\n",
              "        element.innerHTML = '';\n",
              "        dataTable['output_type'] = 'display_data';\n",
              "        await google.colab.output.renderOutput(dataTable, element);\n",
              "        const docLink = document.createElement('div');\n",
              "        docLink.innerHTML = docLinkHtml;\n",
              "        element.appendChild(docLink);\n",
              "      }\n",
              "    </script>\n",
              "  </div>\n",
              "\n",
              "\n",
              "<div id=\"df-ea267fbd-7b09-4b76-8ef6-3c8eb18b30f2\">\n",
              "  <button class=\"colab-df-quickchart\" onclick=\"quickchart('df-ea267fbd-7b09-4b76-8ef6-3c8eb18b30f2')\"\n",
              "            title=\"Suggest charts\"\n",
              "            style=\"display:none;\">\n",
              "\n",
              "<svg xmlns=\"http://www.w3.org/2000/svg\" height=\"24px\"viewBox=\"0 0 24 24\"\n",
              "     width=\"24px\">\n",
              "    <g>\n",
              "        <path d=\"M19 3H5c-1.1 0-2 .9-2 2v14c0 1.1.9 2 2 2h14c1.1 0 2-.9 2-2V5c0-1.1-.9-2-2-2zM9 17H7v-7h2v7zm4 0h-2V7h2v10zm4 0h-2v-4h2v4z\"/>\n",
              "    </g>\n",
              "</svg>\n",
              "  </button>\n",
              "\n",
              "<style>\n",
              "  .colab-df-quickchart {\n",
              "      --bg-color: #E8F0FE;\n",
              "      --fill-color: #1967D2;\n",
              "      --hover-bg-color: #E2EBFA;\n",
              "      --hover-fill-color: #174EA6;\n",
              "      --disabled-fill-color: #AAA;\n",
              "      --disabled-bg-color: #DDD;\n",
              "  }\n",
              "\n",
              "  [theme=dark] .colab-df-quickchart {\n",
              "      --bg-color: #3B4455;\n",
              "      --fill-color: #D2E3FC;\n",
              "      --hover-bg-color: #434B5C;\n",
              "      --hover-fill-color: #FFFFFF;\n",
              "      --disabled-bg-color: #3B4455;\n",
              "      --disabled-fill-color: #666;\n",
              "  }\n",
              "\n",
              "  .colab-df-quickchart {\n",
              "    background-color: var(--bg-color);\n",
              "    border: none;\n",
              "    border-radius: 50%;\n",
              "    cursor: pointer;\n",
              "    display: none;\n",
              "    fill: var(--fill-color);\n",
              "    height: 32px;\n",
              "    padding: 0;\n",
              "    width: 32px;\n",
              "  }\n",
              "\n",
              "  .colab-df-quickchart:hover {\n",
              "    background-color: var(--hover-bg-color);\n",
              "    box-shadow: 0 1px 2px rgba(60, 64, 67, 0.3), 0 1px 3px 1px rgba(60, 64, 67, 0.15);\n",
              "    fill: var(--button-hover-fill-color);\n",
              "  }\n",
              "\n",
              "  .colab-df-quickchart-complete:disabled,\n",
              "  .colab-df-quickchart-complete:disabled:hover {\n",
              "    background-color: var(--disabled-bg-color);\n",
              "    fill: var(--disabled-fill-color);\n",
              "    box-shadow: none;\n",
              "  }\n",
              "\n",
              "  .colab-df-spinner {\n",
              "    border: 2px solid var(--fill-color);\n",
              "    border-color: transparent;\n",
              "    border-bottom-color: var(--fill-color);\n",
              "    animation:\n",
              "      spin 1s steps(1) infinite;\n",
              "  }\n",
              "\n",
              "  @keyframes spin {\n",
              "    0% {\n",
              "      border-color: transparent;\n",
              "      border-bottom-color: var(--fill-color);\n",
              "      border-left-color: var(--fill-color);\n",
              "    }\n",
              "    20% {\n",
              "      border-color: transparent;\n",
              "      border-left-color: var(--fill-color);\n",
              "      border-top-color: var(--fill-color);\n",
              "    }\n",
              "    30% {\n",
              "      border-color: transparent;\n",
              "      border-left-color: var(--fill-color);\n",
              "      border-top-color: var(--fill-color);\n",
              "      border-right-color: var(--fill-color);\n",
              "    }\n",
              "    40% {\n",
              "      border-color: transparent;\n",
              "      border-right-color: var(--fill-color);\n",
              "      border-top-color: var(--fill-color);\n",
              "    }\n",
              "    60% {\n",
              "      border-color: transparent;\n",
              "      border-right-color: var(--fill-color);\n",
              "    }\n",
              "    80% {\n",
              "      border-color: transparent;\n",
              "      border-right-color: var(--fill-color);\n",
              "      border-bottom-color: var(--fill-color);\n",
              "    }\n",
              "    90% {\n",
              "      border-color: transparent;\n",
              "      border-bottom-color: var(--fill-color);\n",
              "    }\n",
              "  }\n",
              "</style>\n",
              "\n",
              "  <script>\n",
              "    async function quickchart(key) {\n",
              "      const quickchartButtonEl =\n",
              "        document.querySelector('#' + key + ' button');\n",
              "      quickchartButtonEl.disabled = true;  // To prevent multiple clicks.\n",
              "      quickchartButtonEl.classList.add('colab-df-spinner');\n",
              "      try {\n",
              "        const charts = await google.colab.kernel.invokeFunction(\n",
              "            'suggestCharts', [key], {});\n",
              "      } catch (error) {\n",
              "        console.error('Error during call to suggestCharts:', error);\n",
              "      }\n",
              "      quickchartButtonEl.classList.remove('colab-df-spinner');\n",
              "      quickchartButtonEl.classList.add('colab-df-quickchart-complete');\n",
              "    }\n",
              "    (() => {\n",
              "      let quickchartButtonEl =\n",
              "        document.querySelector('#df-ea267fbd-7b09-4b76-8ef6-3c8eb18b30f2 button');\n",
              "      quickchartButtonEl.style.display =\n",
              "        google.colab.kernel.accessAllowed ? 'block' : 'none';\n",
              "    })();\n",
              "  </script>\n",
              "</div>\n",
              "\n",
              "  <div id=\"id_18124ac7-26ce-4b0f-8990-846285bbb5e1\">\n",
              "    <style>\n",
              "      .colab-df-generate {\n",
              "        background-color: #E8F0FE;\n",
              "        border: none;\n",
              "        border-radius: 50%;\n",
              "        cursor: pointer;\n",
              "        display: none;\n",
              "        fill: #1967D2;\n",
              "        height: 32px;\n",
              "        padding: 0 0 0 0;\n",
              "        width: 32px;\n",
              "      }\n",
              "\n",
              "      .colab-df-generate:hover {\n",
              "        background-color: #E2EBFA;\n",
              "        box-shadow: 0px 1px 2px rgba(60, 64, 67, 0.3), 0px 1px 3px 1px rgba(60, 64, 67, 0.15);\n",
              "        fill: #174EA6;\n",
              "      }\n",
              "\n",
              "      [theme=dark] .colab-df-generate {\n",
              "        background-color: #3B4455;\n",
              "        fill: #D2E3FC;\n",
              "      }\n",
              "\n",
              "      [theme=dark] .colab-df-generate:hover {\n",
              "        background-color: #434B5C;\n",
              "        box-shadow: 0px 1px 3px 1px rgba(0, 0, 0, 0.15);\n",
              "        filter: drop-shadow(0px 1px 2px rgba(0, 0, 0, 0.3));\n",
              "        fill: #FFFFFF;\n",
              "      }\n",
              "    </style>\n",
              "    <button class=\"colab-df-generate\" onclick=\"generateWithVariable('df')\"\n",
              "            title=\"Generate code using this dataframe.\"\n",
              "            style=\"display:none;\">\n",
              "\n",
              "  <svg xmlns=\"http://www.w3.org/2000/svg\" height=\"24px\"viewBox=\"0 0 24 24\"\n",
              "       width=\"24px\">\n",
              "    <path d=\"M7,19H8.4L18.45,9,17,7.55,7,17.6ZM5,21V16.75L18.45,3.32a2,2,0,0,1,2.83,0l1.4,1.43a1.91,1.91,0,0,1,.58,1.4,1.91,1.91,0,0,1-.58,1.4L9.25,21ZM18.45,9,17,7.55Zm-12,3A5.31,5.31,0,0,0,4.9,8.1,5.31,5.31,0,0,0,1,6.5,5.31,5.31,0,0,0,4.9,4.9,5.31,5.31,0,0,0,6.5,1,5.31,5.31,0,0,0,8.1,4.9,5.31,5.31,0,0,0,12,6.5,5.46,5.46,0,0,0,6.5,12Z\"/>\n",
              "  </svg>\n",
              "    </button>\n",
              "    <script>\n",
              "      (() => {\n",
              "      const buttonEl =\n",
              "        document.querySelector('#id_18124ac7-26ce-4b0f-8990-846285bbb5e1 button.colab-df-generate');\n",
              "      buttonEl.style.display =\n",
              "        google.colab.kernel.accessAllowed ? 'block' : 'none';\n",
              "\n",
              "      buttonEl.onclick = () => {\n",
              "        google.colab.notebook.generateWithVariable('df');\n",
              "      }\n",
              "      })();\n",
              "    </script>\n",
              "  </div>\n",
              "\n",
              "    </div>\n",
              "  </div>\n"
            ],
            "application/vnd.google.colaboratory.intrinsic+json": {
              "type": "dataframe",
              "variable_name": "df",
              "summary": "{\n  \"name\": \"df\",\n  \"rows\": 4,\n  \"fields\": [\n    {\n      \"column\": \"A\",\n      \"properties\": {\n        \"dtype\": \"string\",\n        \"num_unique_values\": 2,\n        \"samples\": [\n          \"Mumbai\",\n          \"Delhi\"\n        ],\n        \"semantic_type\": \"\",\n        \"description\": \"\"\n      }\n    },\n    {\n      \"column\": \"B\",\n      \"properties\": {\n        \"dtype\": \"number\",\n        \"std\": 1,\n        \"min\": 1,\n        \"max\": 4,\n        \"num_unique_values\": 4,\n        \"samples\": [\n          2,\n          4\n        ],\n        \"semantic_type\": \"\",\n        \"description\": \"\"\n      }\n    },\n    {\n      \"column\": \"C\",\n      \"properties\": {\n        \"dtype\": \"number\",\n        \"std\": 3.1622776601683795,\n        \"min\": 1.0,\n        \"max\": 8.0,\n        \"num_unique_values\": 4,\n        \"samples\": [\n          5.0,\n          1.0\n        ],\n        \"semantic_type\": \"\",\n        \"description\": \"\"\n      }\n    }\n  ]\n}"
            }
          },
          "metadata": {},
          "execution_count": 4
        }
      ]
    },
    {
      "cell_type": "code",
      "source": [
        "# grouping by column 'A' and summing up the other columns\n",
        "grouped = df.groupby('A').sum()\n",
        "print(grouped)"
      ],
      "metadata": {
        "colab": {
          "base_uri": "https://localhost:8080/"
        },
        "id": "bHsgMO2qKRgK",
        "outputId": "e5f5d9c3-aa24-44db-e313-657be030baba"
      },
      "execution_count": 5,
      "outputs": [
        {
          "output_type": "stream",
          "name": "stdout",
          "text": [
            "        B     C\n",
            "A              \n",
            "Delhi   4  10.0\n",
            "Mumbai  6   6.0\n"
          ]
        }
      ]
    },
    {
      "cell_type": "markdown",
      "source": [
        "Use GroupBy for segmenting the dataset into groups and applying calculations for each group separately, such as summarizing sales data by region or calculating average scores by student groups.\n",
        "\n"
      ],
      "metadata": {
        "id": "Q33sbhC8PYMk"
      }
    },
    {
      "cell_type": "markdown",
      "source": [
        "# Pivot Tables\n",
        "A pivot table is a data summarization tool frequently used in data processing. Pandas pivot_table can automatically sort, count, and total the data stored in one DataFrame or Series and is particularly useful for quickly summarizing data and highlighting important aspects."
      ],
      "metadata": {
        "id": "wesP8JnxPZqB"
      }
    },
    {
      "cell_type": "code",
      "source": [
        "import numpy as np\n",
        "pivot = pd.pivot_table(df, values='C', index=['A'], aggfunc=np.sum)\n",
        "print(pivot)"
      ],
      "metadata": {
        "colab": {
          "base_uri": "https://localhost:8080/"
        },
        "id": "Etqii1BePd_q",
        "outputId": "633c2dee-5192-429b-c380-fa6836e79cbd"
      },
      "execution_count": 6,
      "outputs": [
        {
          "output_type": "stream",
          "name": "stdout",
          "text": [
            "           C\n",
            "A           \n",
            "Delhi   10.0\n",
            "Mumbai   6.0\n"
          ]
        }
      ]
    },
    {
      "cell_type": "markdown",
      "source": [
        "Use pivot_table when you need to create a spreadsheet-style pivot table as a DataFrame. It’s particularly useful for summarizing and analyzing data to see comparisons, patterns, and trends in data"
      ],
      "metadata": {
        "id": "uHyPNN16PwFU"
      }
    },
    {
      "cell_type": "markdown",
      "source": [
        "# Multi-Indexing\n",
        "Pandas support multi-level indexing, or hierarchical indexing, which allows you to store and manipulate data with an arbitrary number of dimensions in lower dimensional data structures like Series (1D) and DataFrame (2D)."
      ],
      "metadata": {
        "id": "FkUFt9viPxjF"
      }
    },
    {
      "cell_type": "code",
      "source": [
        "# creating a dataframe with multi-index\n",
        "index = pd.MultiIndex.from_tuples([('Delhi', 'one'), ('Delhi', 'two'),\n",
        "                                   ('Mumbai', 'one'), ('Mumbai', 'two')],\n",
        "                                  names=['first', 'second'])\n",
        "df_multi = pd.DataFrame(np.random.randn(4, 2), index=index, columns=['A', 'B'])\n",
        "print(df_multi)"
      ],
      "metadata": {
        "colab": {
          "base_uri": "https://localhost:8080/"
        },
        "id": "Cj1_ay8zP9bH",
        "outputId": "2c8fe657-7c86-4c80-9899-ed4cb5a8f256"
      },
      "execution_count": 7,
      "outputs": [
        {
          "output_type": "stream",
          "name": "stdout",
          "text": [
            "                      A         B\n",
            "first  second                    \n",
            "Delhi  one     0.015445 -0.769135\n",
            "       two     0.137696  1.700203\n",
            "Mumbai one    -1.798067 -0.324680\n",
            "       two     0.581578 -0.440291\n"
          ]
        }
      ]
    },
    {
      "cell_type": "markdown",
      "source": [
        "Use multi-indexing when you need to work with data that can be categorized by two or more keys per data point. It is especially useful for grouping data into categories and subcategories."
      ],
      "metadata": {
        "id": "A3pAu9lTQW8I"
      }
    },
    {
      "cell_type": "markdown",
      "source": [
        "# Merging, Joining, and Concatenating\n",
        "These functions are used to combine different DataFrames together. Merge is for combining data on columns or indices, Join is for combining data on a key column or an index, and Concat is for appending dataframes one below the other or side by side.\n",
        "Use merge when you need database-style joining of columns, use join for combining data on a key index or column, and use concat for stacking DataFrames vertically or horizontally"
      ],
      "metadata": {
        "id": "EjL1BUdXQc-4"
      }
    },
    {
      "cell_type": "markdown",
      "source": [
        "Data Transformation with **apply()** and **map()**.\n",
        "apply() allows you to apply a function along an axis of the DataFrame or on a Series. map() is a Series method used to substitute each value in a Series with another value.\n",
        "\n"
      ],
      "metadata": {
        "id": "9tylmbwFQrAa"
      }
    },
    {
      "cell_type": "code",
      "source": [],
      "metadata": {
        "id": "wnhMCuEdQ0jj"
      },
      "execution_count": 7,
      "outputs": []
    },
    {
      "cell_type": "code",
      "source": [
        "# using apply()\n",
        "df['B'] = df['B'].apply(lambda x: x * 2)\n",
        "print(df[\"B\"])\n",
        "\n",
        "# using map() for a Series\n",
        "df['A'] = df['A'].map({'Delhi': 'New Delhi', 'Mumbai': 'Bombay'})"
      ],
      "metadata": {
        "colab": {
          "base_uri": "https://localhost:8080/"
        },
        "id": "84xqJ4NfQXz3",
        "outputId": "ab6489f7-a0b7-4764-d0a5-ecd5bb393dd9"
      },
      "execution_count": 14,
      "outputs": [
        {
          "output_type": "stream",
          "name": "stdout",
          "text": [
            "0     32\n",
            "1     64\n",
            "2     96\n",
            "3    128\n",
            "Name: B, dtype: int64\n"
          ]
        }
      ]
    },
    {
      "cell_type": "markdown",
      "source": [
        "# Query Function\n",
        "The query() function in Pandas allows you to filter a DataFrame using a query expression passed as a string. This method offers a more readable syntax for filtering data compared to traditional boolean indexing, especially for complex conditions. It can be particularly useful when working with large DataFrames and performing dynamic data filtering operations."
      ],
      "metadata": {
        "id": "G-wUOASoRt90"
      }
    },
    {
      "cell_type": "code",
      "source": [
        "import pandas as pd\n",
        "\n",
        "# sample dataframe\n",
        "df = pd.DataFrame({\n",
        "    'A': range(1, 6),\n",
        "    'B': range(10, 60, 10),\n",
        "    'C': ['Delhi', 'Mumbai', 'Delhi', 'Mumbai', 'Delhi']\n",
        "})\n",
        "print(df)\n",
        "# using query() to filter rows\n",
        "filtered_df = df.query('(A > 2) & (C == \"Delhi\")')\n",
        "\n",
        "print(filtered_df)"
      ],
      "metadata": {
        "colab": {
          "base_uri": "https://localhost:8080/"
        },
        "id": "rjF6fgcYPy-m",
        "outputId": "7b2ea4e7-65f3-4273-fe81-b87614ce5f05"
      },
      "execution_count": 17,
      "outputs": [
        {
          "output_type": "stream",
          "name": "stdout",
          "text": [
            "   A   B       C\n",
            "0  1  10   Delhi\n",
            "1  2  20  Mumbai\n",
            "2  3  30   Delhi\n",
            "3  4  40  Mumbai\n",
            "4  5  50   Delhi\n",
            "   A   B      C\n",
            "2  3  30  Delhi\n",
            "4  5  50  Delhi\n"
          ]
        }
      ]
    },
    {
      "cell_type": "markdown",
      "source": [
        "Use the query() function when you need to perform filtering operations on a DataFrame and prefer a concise, readable syntax. It’s especially useful in situations where the filter conditions are complex or when you’re dynamically constructing query strings based on user input or program logic."
      ],
      "metadata": {
        "id": "ggP-ozigSTz7"
      }
    },
    {
      "cell_type": "markdown",
      "source": [
        "# Time Series Functionality\n",
        "Pandas provide powerful time series functionality to manipulate and analyze time series data. It includes capabilities for date range generation, frequency conversion, moving window statistics, date shifting, and lagging. These functions are essential for working with financial, economic, environmental, and many other types of data that are indexed by time.\n",
        "\n",
        "Use Pandas time series functionality when you are working with data indexed by time, and you need to perform operations such as:\n",
        "\n",
        "Resampling for different time frequencies (e.g., converting minute data into 5-minute data).\n",
        "Filling missing dates and times in a time series.\n",
        "Shifting or lagging values for time series analysis.\n",
        "Calculating rolling or moving window statistics (e.g., moving average).\n",
        "Working with time zones."
      ],
      "metadata": {
        "id": "kJV10fggSctw"
      }
    },
    {
      "cell_type": "code",
      "source": [],
      "metadata": {
        "id": "7dOUhZIVJ3qw"
      },
      "execution_count": null,
      "outputs": []
    }
  ]
}
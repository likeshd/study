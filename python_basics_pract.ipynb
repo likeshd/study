{
  "nbformat": 4,
  "nbformat_minor": 0,
  "metadata": {
    "colab": {
      "provenance": [],
      "authorship_tag": "ABX9TyNZfB3QzkI/k7+V3xVZRKqg",
      "include_colab_link": true
    },
    "kernelspec": {
      "name": "python3",
      "display_name": "Python 3"
    },
    "language_info": {
      "name": "python"
    }
  },
  "cells": [
    {
      "cell_type": "markdown",
      "metadata": {
        "id": "view-in-github",
        "colab_type": "text"
      },
      "source": [
        "<a href=\"https://colab.research.google.com/github/likeshd/study/blob/main/python_basics_pract.ipynb\" target=\"_parent\"><img src=\"https://colab.research.google.com/assets/colab-badge.svg\" alt=\"Open In Colab\"/></a>"
      ]
    },
    {
      "cell_type": "code",
      "execution_count": 1,
      "metadata": {
        "colab": {
          "base_uri": "https://localhost:8080/",
          "height": 0
        },
        "id": "X9kQDsfMKYq3",
        "outputId": "05c0456b-98ad-4f19-9b8b-468023ba564e"
      },
      "outputs": [
        {
          "output_type": "stream",
          "name": "stdout",
          "text": [
            "sursan 22 is a \"natural\"swimmmer\n"
          ]
        }
      ],
      "source": [
        "name,age = \"sursan\",22\n",
        "print(name,age,\"is a \\\"natural\\\"swimmmer\")"
      ]
    },
    {
      "cell_type": "code",
      "source": [
        "a,b,c = 10,20,50\n",
        "result = (a+b)//c\n",
        "print(\"The result is {}\".format(c))"
      ],
      "metadata": {
        "colab": {
          "base_uri": "https://localhost:8080/",
          "height": 0
        },
        "id": "oJrR64MwKmI-",
        "outputId": "6cd1ab2e-ae3c-4a96-e463-f428c3d77009"
      },
      "execution_count": 2,
      "outputs": [
        {
          "output_type": "stream",
          "name": "stdout",
          "text": [
            "The result is 50\n"
          ]
        }
      ]
    },
    {
      "cell_type": "code",
      "source": [
        "a = [1,2,3,4,5]\n",
        "b = [2,3,4,5,6]\n",
        "print(a[-1],\"and\", b[len(b)-1])"
      ],
      "metadata": {
        "colab": {
          "base_uri": "https://localhost:8080/",
          "height": 0
        },
        "id": "F3d9SF3UKmL5",
        "outputId": "18aa59b9-ec48-46b7-b7c3-204d8561cff1"
      },
      "execution_count": 3,
      "outputs": [
        {
          "output_type": "stream",
          "name": "stdout",
          "text": [
            "5 and 6\n"
          ]
        }
      ]
    },
    {
      "cell_type": "code",
      "source": [
        "a = list(range(0,10,2))\n",
        "print(a[::-1])"
      ],
      "metadata": {
        "colab": {
          "base_uri": "https://localhost:8080/",
          "height": 0
        },
        "id": "BnvBNR4eLjGA",
        "outputId": "4868632f-c804-4236-919b-697da25f64af"
      },
      "execution_count": 4,
      "outputs": [
        {
          "output_type": "stream",
          "name": "stdout",
          "text": [
            "[8, 6, 4, 2, 0]\n"
          ]
        }
      ]
    },
    {
      "cell_type": "code",
      "source": [
        "A = 10\n",
        "B = 20\n",
        "if A > 5 & B > 15:\n",
        "    print(\"one\")\n",
        "elif A < 5 & B < 15:\n",
        "    print(\"two\")\n",
        "else:\n",
        "    print(\"None\")"
      ],
      "metadata": {
        "colab": {
          "base_uri": "https://localhost:8080/",
          "height": 0
        },
        "id": "HMZAlvzrKmOo",
        "outputId": "80c1d2e3-d990-4331-8471-d3f691bddca6"
      },
      "execution_count": 9,
      "outputs": [
        {
          "output_type": "stream",
          "name": "stdout",
          "text": [
            "None\n"
          ]
        }
      ]
    },
    {
      "cell_type": "code",
      "source": [
        "A = 2\n",
        "B = 10\n",
        "if A>0 and B%A ==0:\n",
        "  print(\"one\", end=\",\")\n",
        "elif B>5 and B%2 ==1:\n",
        "  print(\"two\",end=\",\")\n",
        "else:\n",
        "  pass"
      ],
      "metadata": {
        "colab": {
          "base_uri": "https://localhost:8080/",
          "height": 0
        },
        "id": "Ml4oA59IMR06",
        "outputId": "673e13ba-4e06-4af1-8a66-5cf5dfdb4412"
      },
      "execution_count": 12,
      "outputs": [
        {
          "output_type": "stream",
          "name": "stdout",
          "text": [
            "one,"
          ]
        }
      ]
    },
    {
      "cell_type": "code",
      "source": [
        "def func(self):\n",
        "  if self%2==0:\n",
        "    return None\n",
        "func(10)"
      ],
      "metadata": {
        "id": "vc15U-5HN7cQ"
      },
      "execution_count": 31,
      "outputs": []
    },
    {
      "cell_type": "code",
      "source": [
        "def fucn(*self):\n",
        "  for i in self:\n",
        "    if i in list(range(0,100,10)):\n",
        "      print(\"True\", end =\",\")\n",
        "    else:\n",
        "      print(\"False\")\n",
        "(fucn(10,15))"
      ],
      "metadata": {
        "colab": {
          "base_uri": "https://localhost:8080/",
          "height": 0
        },
        "id": "_JetLH7XN7iH",
        "outputId": "dfff69ac-a1b7-44b1-db58-d009ae24c7ee"
      },
      "execution_count": 17,
      "outputs": [
        {
          "output_type": "stream",
          "name": "stdout",
          "text": [
            "True,False\n"
          ]
        }
      ]
    },
    {
      "cell_type": "code",
      "source": [
        "class Myclass:\n",
        "\n",
        "  def __init__(self):\n",
        "    self.string = \"Intllipaat\"\n",
        "    self.number = 2022\n",
        "\n",
        "obj = Myclass()\n",
        "print(obj.string, obj.number)"
      ],
      "metadata": {
        "colab": {
          "base_uri": "https://localhost:8080/"
        },
        "id": "q_8FNRmUPJP7",
        "outputId": "e02618e2-cfe1-41b0-c309-fc841cfb91dd"
      },
      "execution_count": 28,
      "outputs": [
        {
          "output_type": "stream",
          "name": "stdout",
          "text": [
            "Intllipaat 2022\n"
          ]
        }
      ]
    },
    {
      "cell_type": "code",
      "source": [
        "class Parent:\n",
        "  def __init__(self):\n",
        "    self._name = \"levi\"\n",
        "    self.__age = 29\n",
        "\n",
        "class Child(Parent):\n",
        "  def __init__(self):\n",
        "    Parent.__init__(self)\n",
        "    self._name = \"devon\"\n",
        "    self.__age = 28\n",
        "\n",
        "  def view(self):\n",
        "    return self.__age\n",
        "\n",
        "obj = Child()\n",
        "obj.view()"
      ],
      "metadata": {
        "colab": {
          "base_uri": "https://localhost:8080/"
        },
        "id": "sX79uZtqQ2aq",
        "outputId": "50747ae0-cc9f-46d9-c8ce-2a510fd224b7"
      },
      "execution_count": 30,
      "outputs": [
        {
          "output_type": "execute_result",
          "data": {
            "text/plain": [
              "28"
            ]
          },
          "metadata": {},
          "execution_count": 30
        }
      ]
    },
    {
      "cell_type": "code",
      "source": [],
      "metadata": {
        "id": "eHstokieN7lp"
      },
      "execution_count": null,
      "outputs": []
    }
  ]
}